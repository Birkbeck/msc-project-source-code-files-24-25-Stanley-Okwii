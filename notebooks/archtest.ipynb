{
 "cells": [
  {
   "cell_type": "code",
   "execution_count": 43,
   "id": "f1704b05",
   "metadata": {},
   "outputs": [
    {
     "name": "stdout",
     "output_type": "stream",
     "text": [
      "Available devices: [PhysicalDevice(name='/physical_device:CPU:0', device_type='CPU'), PhysicalDevice(name='/physical_device:GPU:0', device_type='GPU')]\n"
     ]
    }
   ],
   "source": [
    "# configure tensorflow for M1 max with 32 GPU cores\n",
    "import tensorflow as tf\n",
    "import os\n",
    "\n",
    "def configure_tensorflow():\n",
    "    # Physical devices configuration\n",
    "    physical_devices = tf.config.list_physical_devices()\n",
    "    print(\"Available devices:\", physical_devices)\n",
    "\n",
    "    # Configure GPU\n",
    "    # print(\"Configuring GPU...\", tf.config.list_physical_devices('GPU'))\n",
    "    try:\n",
    "        if tf.config.list_physical_devices('GPU') == 1 :\n",
    "            tf.config.experimental.set_memory_growth(physical_devices[1], True)\n",
    "\n",
    "        # Set compute units (GPU cores) utilization\n",
    "        tf.config.experimental.set_virtual_device_configuration(\n",
    "            physical_devices[1],\n",
    "            [tf.config.experimental.VirtualDeviceConfiguration(memory_limit=24576)]  # 24GB RAM allocation\n",
    "        )\n",
    "    except:\n",
    "        print(\"No GPU devices found\")\n",
    "\n",
    "    # CPU configuration\n",
    "    tf.config.threading.set_intra_op_parallelism_threads(7)  # Match your CPU cores\n",
    "    tf.config.threading.set_inter_op_parallelism_threads(7)  # Match your CPU cores\n",
    "\n",
    "    # Mixed precision configuration\n",
    "    tf.keras.mixed_precision.set_global_policy('mixed_float16')\n",
    "\n",
    "    # XLA optimization\n",
    "    tf.config.optimizer.set_jit(False)\n",
    "\n",
    "    # Additional performance configurations\n",
    "    os.environ['TF_GPU_THREAD_MODE'] = 'gpu_private'\n",
    "    os.environ['TF_GPU_THREAD_COUNT'] = '30'  # Match your GPU cores\n",
    "    os.environ['TF_USE_CUDNN_BATCHNORM_SPATIAL_PERSISTENT'] = '1'\n",
    "    os.environ['TF_ENABLE_AUTO_MIXED_PRECISION'] = '1'\n",
    "    \n",
    "    # Metal performance configuration\n",
    "    os.environ['METAL_DEBUG_ERROR_MODE'] = '0'\n",
    "    os.environ['METAL_DEVICE_WRAPPER_TYPE'] = '0'\n",
    "\n",
    "    # return tf.config.get_config()\n",
    "\n",
    "configure_tensorflow()"
   ]
  },
  {
   "cell_type": "code",
   "execution_count": 44,
   "id": "a51e43a7",
   "metadata": {},
   "outputs": [
    {
     "name": "stdout",
     "output_type": "stream",
     "text": [
      "Available devices: [PhysicalDevice(name='/physical_device:CPU:0', device_type='CPU'), PhysicalDevice(name='/physical_device:GPU:0', device_type='GPU')]\n",
      "Epoch 1/10\n",
      "\u001b[1m32/32\u001b[0m \u001b[32m━━━━━━━━━━━━━━━━━━━━\u001b[0m\u001b[37m\u001b[0m \u001b[1m2s\u001b[0m 31ms/step - accuracy: 0.0775 - loss: 3.4819\n",
      "Epoch 2/10\n",
      "\u001b[1m32/32\u001b[0m \u001b[32m━━━━━━━━━━━━━━━━━━━━\u001b[0m\u001b[37m\u001b[0m \u001b[1m1s\u001b[0m 17ms/step - accuracy: 0.5694 - loss: 2.3251\n",
      "Epoch 3/10\n",
      "\u001b[1m32/32\u001b[0m \u001b[32m━━━━━━━━━━━━━━━━━━━━\u001b[0m\u001b[37m\u001b[0m \u001b[1m1s\u001b[0m 17ms/step - accuracy: 0.7856 - loss: 0.9094\n",
      "Epoch 4/10\n",
      "\u001b[1m32/32\u001b[0m \u001b[32m━━━━━━━━━━━━━━━━━━━━\u001b[0m\u001b[37m\u001b[0m \u001b[1m1s\u001b[0m 17ms/step - accuracy: 0.8935 - loss: 0.3562\n",
      "Epoch 5/10\n",
      "\u001b[1m32/32\u001b[0m \u001b[32m━━━━━━━━━━━━━━━━━━━━\u001b[0m\u001b[37m\u001b[0m \u001b[1m1s\u001b[0m 17ms/step - accuracy: 0.9439 - loss: 0.1991\n",
      "Epoch 6/10\n",
      "\u001b[1m32/32\u001b[0m \u001b[32m━━━━━━━━━━━━━━━━━━━━\u001b[0m\u001b[37m\u001b[0m \u001b[1m1s\u001b[0m 17ms/step - accuracy: 0.9683 - loss: 0.1092\n",
      "Epoch 7/10\n",
      "\u001b[1m32/32\u001b[0m \u001b[32m━━━━━━━━━━━━━━━━━━━━\u001b[0m\u001b[37m\u001b[0m \u001b[1m1s\u001b[0m 16ms/step - accuracy: 0.9669 - loss: 0.1334\n",
      "Epoch 8/10\n",
      "\u001b[1m32/32\u001b[0m \u001b[32m━━━━━━━━━━━━━━━━━━━━\u001b[0m\u001b[37m\u001b[0m \u001b[1m1s\u001b[0m 17ms/step - accuracy: 0.9811 - loss: 0.0892\n",
      "Epoch 9/10\n",
      "\u001b[1m32/32\u001b[0m \u001b[32m━━━━━━━━━━━━━━━━━━━━\u001b[0m\u001b[37m\u001b[0m \u001b[1m1s\u001b[0m 17ms/step - accuracy: 0.9865 - loss: 0.0489\n",
      "Epoch 10/10\n",
      "\u001b[1m32/32\u001b[0m \u001b[32m━━━━━━━━━━━━━━━━━━━━\u001b[0m\u001b[37m\u001b[0m \u001b[1m1s\u001b[0m 16ms/step - accuracy: 0.9904 - loss: 0.0529\n",
      "Training time: 6.88 seconds\n"
     ]
    }
   ],
   "source": [
    "import tensorflow as tf\n",
    "# from tf_config import configure_tensorflow\n",
    "import time\n",
    "\n",
    "def run_benchmark():\n",
    "    # Apply configuration\n",
    "    config = configure_tensorflow()\n",
    "    \n",
    "    # Create a simple model for testing\n",
    "    model = tf.keras.Sequential([\n",
    "        tf.keras.layers.Dense(1024, activation='relu'),\n",
    "        tf.keras.layers.Dense(1024, activation='relu'),\n",
    "        tf.keras.layers.Dense(10, activation='softmax')\n",
    "    ])\n",
    "\n",
    "    # Generate synthetic data\n",
    "    x_train = tf.random.normal((1000, 1024))\n",
    "    y_train = tf.random.uniform((1000,), maxval=10, dtype=tf.int32)\n",
    "    y_train = tf.one_hot(y_train, 10)\n",
    "\n",
    "    # Compile model\n",
    "    model.compile(\n",
    "        optimizer=tf.keras.optimizers.Adam(),\n",
    "        loss='categorical_crossentropy',\n",
    "        metrics=['accuracy']\n",
    "    )\n",
    "\n",
    "    # Time the training\n",
    "    start_time = time.time()\n",
    "    model.fit(x_train, y_train, batch_size=32, epochs=10)\n",
    "    end_time = time.time()\n",
    "\n",
    "    print(f\"Training time: {end_time - start_time:.2f} seconds\")\n",
    "\n",
    "\n",
    "run_benchmark()"
   ]
  }
 ],
 "metadata": {
  "kernelspec": {
   "display_name": "Python 3",
   "language": "python",
   "name": "python3"
  },
  "language_info": {
   "codemirror_mode": {
    "name": "ipython",
    "version": 3
   },
   "file_extension": ".py",
   "mimetype": "text/x-python",
   "name": "python",
   "nbconvert_exporter": "python",
   "pygments_lexer": "ipython3",
   "version": "3.10.9"
  }
 },
 "nbformat": 4,
 "nbformat_minor": 5
}
