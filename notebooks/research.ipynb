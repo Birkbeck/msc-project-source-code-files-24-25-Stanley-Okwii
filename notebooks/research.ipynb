{
 "cells": [
  {
   "cell_type": "code",
   "execution_count": 2,
   "id": "fd5996b4",
   "metadata": {},
   "outputs": [
    {
     "name": "stdout",
     "output_type": "stream",
     "text": [
      "\n",
      "\u001b[1m[\u001b[0m\u001b[34;49mnotice\u001b[0m\u001b[1;39;49m]\u001b[0m\u001b[39;49m A new release of pip available: \u001b[0m\u001b[31;49m22.3.1\u001b[0m\u001b[39;49m -> \u001b[0m\u001b[32;49m25.1.1\u001b[0m\n",
      "\u001b[1m[\u001b[0m\u001b[34;49mnotice\u001b[0m\u001b[1;39;49m]\u001b[0m\u001b[39;49m To update, run: \u001b[0m\u001b[32;49mpip3 install --upgrade pip\u001b[0m\n",
      "Note: you may need to restart the kernel to use updated packages.\n"
     ]
    }
   ],
   "source": [
    "## Install necessary libraries\n",
    "%pip install -q -r ../requirements.txt"
   ]
  },
  {
   "cell_type": "code",
   "execution_count": null,
   "id": "980ef011",
   "metadata": {},
   "outputs": [
    {
     "name": "stdout",
     "output_type": "stream",
     "text": [
      "Available devices: [PhysicalDevice(name='/physical_device:CPU:0', device_type='CPU'), PhysicalDevice(name='/physical_device:GPU:0', device_type='GPU')]\n"
     ]
    }
   ],
   "source": [
    "# configure tensorflow for M1 max with 32 GPU cores\n",
    "# Setup TensorFlow environment\n",
    "from utils import setup_tensorflow_environment\n",
    "\n",
    "setup_tensorflow_environment()"
   ]
  },
  {
   "cell_type": "code",
   "execution_count": null,
   "id": "90a60024",
   "metadata": {},
   "outputs": [
    {
     "name": "stderr",
     "output_type": "stream",
     "text": [
      "2025-05-28 00:19:33.183894: I metal_plugin/src/device/metal_device.cc:1154] Metal device set to: Apple M1 Max\n",
      "2025-05-28 00:19:33.183945: I metal_plugin/src/device/metal_device.cc:296] systemMemory: 64.00 GB\n",
      "2025-05-28 00:19:33.183952: I metal_plugin/src/device/metal_device.cc:313] maxCacheSize: 24.00 GB\n",
      "WARNING: All log messages before absl::InitializeLog() is called are written to STDERR\n",
      "I0000 00:00:1748387973.184024 3770965 pluggable_device_factory.cc:305] Could not identify NUMA node of platform GPU ID 0, defaulting to 0. Your kernel may not have been built with NUMA support.\n",
      "I0000 00:00:1748387973.184098 3770965 pluggable_device_factory.cc:271] Created TensorFlow device (/job:localhost/replica:0/task:0/device:GPU:0 with 0 MB memory) -> physical PluggableDevice (device: 0, name: METAL, pci bus id: <undefined>)\n"
     ]
    },
    {
     "name": "stdout",
     "output_type": "stream",
     "text": [
      "Model loaded successfully with Metal GPU support\n"
     ]
    }
   ],
   "source": [
    "# Load ResNet50 model with mixed precision for better performance on Metal\n",
    "import tensorflow as tf\n",
    "\n",
    "\n",
    "policy = tf.keras.mixed_precision.Policy('mixed_float16')\n",
    "tf.keras.mixed_precision.set_global_policy(policy)\n",
    "\n",
    "#  Fix SSL certificate verification issue\n",
    "import ssl\n",
    "ssl._create_default_https_context = ssl._create_unverified_context\n",
    "\n",
    "# Load model with Metal GPU optimization\n",
    "model = tf.keras.applications.ResNet50(\n",
    "    include_top=True,\n",
    "    weights='imagenet',\n",
    "    input_tensor=None,\n",
    "    input_shape=(224, 224, 3),\n",
    "    pooling=None,\n",
    "    classes=1000,\n",
    "    classifier_activation='softmax'\n",
    ")\n",
    "print(\"Model loaded successfully with Metal GPU support\")\n"
   ]
  },
  {
   "cell_type": "code",
   "execution_count": 28,
   "id": "13ef59cb",
   "metadata": {},
   "outputs": [],
   "source": [
    "import tensorflow_datasets as tfds\n",
    "import tensorflow as tf\n",
    "\n",
    "# Set batch size and image size\n",
    "BATCH_SIZE = 32\n",
    "IMAGE_SIZE = 224\n",
    "AUTOTUNE = tf.data.AUTOTUNE\n",
    "\n",
    "def preprocess_data(data):\n",
    "    \"\"\"Preprocess ImageNet data for ResNet50\"\"\"\n",
    "    image = tf.cast(data['image'], tf.float32)\n",
    "    image = tf.image.resize(image, (IMAGE_SIZE, IMAGE_SIZE))\n",
    "    image = tf.keras.applications.resnet50.preprocess_input(image)\n",
    "    label = data['label']\n",
    "    return image, label\n",
    "\n",
    "# Load ImageNet test dataset - 13 minutes to load data\n",
    "dataset, info = tfds.load(\n",
    "    'imagenet2012',\n",
    "    shuffle_files=False,\n",
    "    with_info=True,\n",
    "    data_dir='../datasets'  # Using your local ImageNet data\n",
    ")\n",
    "\n",
    "# Update to use the validation split instead of the test split\n",
    "# validation_dataset = dataset['validation'].map(preprocess_data, num_parallel_calls=AUTOTUNE)\n",
    "# validation_dataset = validation_dataset.batch(BATCH_SIZE)\n",
    "# validation_dataset = validation_dataset.prefetch(AUTOTUNE)\n",
    "\n",
    "# Replace test_dataset with validation_dataset in subsequent code"
   ]
  },
  {
   "cell_type": "code",
   "execution_count": 11,
   "id": "9a07b56d",
   "metadata": {},
   "outputs": [],
   "source": [
    "## Load test dataset\n",
    "test_dataset, info = tfds.load(\n",
    "    'imagenet_v2',\n",
    "    shuffle_files=False,\n",
    "    with_info=True\n",
    ")"
   ]
  },
  {
   "cell_type": "code",
   "execution_count": 12,
   "id": "149054c5",
   "metadata": {},
   "outputs": [],
   "source": [
    "# Evaluation\n",
    "# Configure the dataset for performance\n",
    "\n",
    "test_dataset = test_dataset['test'].map(preprocess_data, num_parallel_calls=AUTOTUNE)\n",
    "test_dataset = test_dataset.batch(BATCH_SIZE)\n",
    "test_dataset = test_dataset.prefetch(AUTOTUNE)\n",
    "\n",
    "model.compile(\n",
    "\toptimizer='adam',\n",
    "\tloss='sparse_categorical_crossentropy',\n",
    "\tmetrics=['accuracy']\n",
    ")\n"
   ]
  },
  {
   "cell_type": "code",
   "execution_count": 13,
   "id": "0c9436fb",
   "metadata": {},
   "outputs": [
    {
     "name": "stdout",
     "output_type": "stream",
     "text": [
      "\u001b[1m313/313\u001b[0m \u001b[32m━━━━━━━━━━━━━━━━━━━━\u001b[0m\u001b[37m\u001b[0m \u001b[1m34s\u001b[0m 97ms/step - accuracy: 0.5613 - loss: 2.1096\n",
      "Test Loss: 2.1101737022399902, Test Accuracy: 0.5652999877929688\n"
     ]
    }
   ],
   "source": [
    "# Evaluate the model on the test dataset\n",
    "results = model.evaluate(test_dataset, verbose=1)\n",
    "print(f\"Test Loss: {results[0]}, Test Accuracy: {results[1]}\")"
   ]
  }
 ],
 "metadata": {
  "kernelspec": {
   "display_name": "Python 3",
   "language": "python",
   "name": "python3"
  },
  "language_info": {
   "codemirror_mode": {
    "name": "ipython",
    "version": 3
   },
   "file_extension": ".py",
   "mimetype": "text/x-python",
   "name": "python",
   "nbconvert_exporter": "python",
   "pygments_lexer": "ipython3",
   "version": "3.10.9"
  }
 },
 "nbformat": 4,
 "nbformat_minor": 5
}
