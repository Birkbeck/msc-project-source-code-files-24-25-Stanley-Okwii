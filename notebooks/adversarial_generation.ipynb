{
 "cells": [
  {
   "cell_type": "markdown",
   "id": "7dab9466",
   "metadata": {},
   "source": [
    "# Data Preprocessing\n",
    "While from imagenet might need little processing. To retrain Resnet-50 with adversarial inputs, they need to be generated. Training dataset has about 1M images, preprocessing, generates adversarial input for both training and testing datasets.\n",
    "Corresponding adversarial tensorflow records are created for both datasets."
   ]
  },
  {
   "cell_type": "code",
   "execution_count": null,
   "id": "12cc8921",
   "metadata": {},
   "outputs": [],
   "source": []
  }
 ],
 "metadata": {
  "kernelspec": {
   "display_name": ".venv",
   "language": "python",
   "name": "python3"
  },
  "language_info": {
   "name": "python",
   "version": "3.12.2"
  }
 },
 "nbformat": 4,
 "nbformat_minor": 5
}
