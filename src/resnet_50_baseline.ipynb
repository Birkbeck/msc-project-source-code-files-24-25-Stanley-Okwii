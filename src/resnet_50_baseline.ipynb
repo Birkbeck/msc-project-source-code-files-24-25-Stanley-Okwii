{
 "cells": [
  {
   "cell_type": "markdown",
   "id": "6c71fe7c",
   "metadata": {},
   "source": [
    "# Resnet model Evaluation"
   ]
  },
  {
   "cell_type": "code",
   "execution_count": null,
   "id": "a48607c6",
   "metadata": {
    "vscode": {
     "languageId": "plaintext"
    }
   },
   "outputs": [],
   "source": []
  }
 ],
 "metadata": {
  "language_info": {
   "name": "python"
  }
 },
 "nbformat": 4,
 "nbformat_minor": 5
}
