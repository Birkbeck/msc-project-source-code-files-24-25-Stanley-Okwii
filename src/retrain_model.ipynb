{
 "cells": [
  {
   "cell_type": "code",
   "execution_count": 4,
   "id": "9a72b038",
   "metadata": {},
   "outputs": [
    {
     "name": "stdout",
     "output_type": "stream",
     "text": [
      "Available devices: [PhysicalDevice(name='/physical_device:CPU:0', device_type='CPU'), PhysicalDevice(name='/physical_device:GPU:0', device_type='GPU')]\n"
     ]
    }
   ],
   "source": [
    "# Setup TensorFlow environment\n",
    "from utils import setup_tensorflow_environment\n",
    "\n",
    "setup_tensorflow_environment()"
   ]
  },
  {
   "cell_type": "code",
   "execution_count": 5,
   "id": "e3868f2b",
   "metadata": {},
   "outputs": [],
   "source": [
    "import tensorflow as tf\n",
    "import tensorflow_datasets as tfds\n",
    "import numpy as np\n",
    "import matplotlib.pyplot as plt\n",
    "from tensorflow.keras.applications import ResNet50\n",
    "from tensorflow.keras.applications.resnet50 import preprocess_input, decode_predictions\n",
    "from tensorflow.keras import losses, optimizers, metrics\n",
    "\n",
    "# Constants\n",
    "IMG_SIZE = 224\n",
    "BATCH_SIZE = 32\n",
    "AUTOTUNE = tf.data.AUTOTUNE\n",
    "EPOCHS = 3\n",
    "\n",
    "### 1. Load dataset (using Imagenette as a stand-in for ImageNet)\n",
    "def preprocess(example):\n",
    "    image = tf.image.resize(example['image'], (IMG_SIZE, IMG_SIZE))\n",
    "    image = preprocess_input(image)\n",
    "    label = example['label']\n",
    "    return image, label\n",
    "\n",
    "train_ds, val_ds = tfds.load('imagenette/320px-v2', split=['train', 'validation'], as_supervised=False)\n",
    "train_ds = train_ds.map(preprocess).shuffle(1024).batch(BATCH_SIZE).prefetch(AUTOTUNE)\n",
    "val_ds = val_ds.map(preprocess).batch(BATCH_SIZE).prefetch(AUTOTUNE)\n"
   ]
  },
  {
   "cell_type": "code",
   "execution_count": 6,
   "id": "dab8038b",
   "metadata": {},
   "outputs": [
    {
     "name": "stdout",
     "output_type": "stream",
     "text": [
      "Evaluating baseline ResNet-50 on validation set...\n",
      "Baseline Accuracy: 0.0920\n"
     ]
    },
    {
     "name": "stderr",
     "output_type": "stream",
     "text": [
      "2025-06-01 09:07:25.989767: I tensorflow/core/framework/local_rendezvous.cc:407] Local rendezvous is aborting with status: OUT_OF_RANGE: End of sequence\n"
     ]
    }
   ],
   "source": [
    "\n",
    "### 2. Load pretrained ResNet-50\n",
    "base_model = ResNet50(weights='imagenet', include_top=True)\n",
    "\n",
    "# Evaluate baseline accuracy\n",
    "def evaluate(model, dataset):\n",
    "    acc = metrics.SparseCategoricalAccuracy()\n",
    "    for x_batch, y_batch in dataset:\n",
    "        logits = model(x_batch, training=False)\n",
    "        acc.update_state(y_batch, logits)\n",
    "    return acc.result().numpy()\n",
    "\n",
    "print(\"Evaluating baseline ResNet-50 on validation set...\")\n",
    "baseline_acc = evaluate(base_model, val_ds)\n",
    "print(f\"Baseline Accuracy: {baseline_acc:.4f}\")\n"
   ]
  },
  {
   "cell_type": "code",
   "execution_count": 7,
   "id": "5037d7e1",
   "metadata": {},
   "outputs": [
    {
     "name": "stdout",
     "output_type": "stream",
     "text": [
      "Evaluating model under PGD attack...\n",
      "Accuracy under PGD Attack: 0.0000\n"
     ]
    }
   ],
   "source": [
    "\n",
    "### 3. PGD Attack Implementation\n",
    "def pgd_attack(model, images, labels, eps=8/255, alpha=2/255, iters=10):\n",
    "    adv_images = tf.identity(images)\n",
    "    for i in range(iters):\n",
    "        with tf.GradientTape() as tape:\n",
    "            tape.watch(adv_images)\n",
    "            predictions = model(adv_images, training=False)\n",
    "            loss = losses.sparse_categorical_crossentropy(labels, predictions)\n",
    "\n",
    "        grad = tape.gradient(loss, adv_images)\n",
    "        adv_images = adv_images + alpha * tf.sign(grad)\n",
    "        adv_images = tf.clip_by_value(adv_images, images - eps, images + eps)\n",
    "        adv_images = tf.clip_by_value(adv_images, -1, 1)\n",
    "    return adv_images\n",
    "\n",
    "# Evaluate under PGD attack\n",
    "def evaluate_under_attack(model, dataset):\n",
    "    acc = metrics.SparseCategoricalAccuracy()\n",
    "    for x_batch, y_batch in dataset:\n",
    "        x_adv = pgd_attack(model, x_batch, y_batch)\n",
    "        logits = model(x_adv, training=False)\n",
    "        acc.update_state(y_batch, logits)\n",
    "    return acc.result().numpy()\n",
    "\n",
    "print(\"Evaluating model under PGD attack...\")\n",
    "adversarial_acc = evaluate_under_attack(base_model, val_ds)\n",
    "print(f\"Accuracy under PGD Attack: {adversarial_acc:.4f}\")\n"
   ]
  },
  {
   "cell_type": "code",
   "execution_count": 8,
   "id": "985144f4",
   "metadata": {},
   "outputs": [
    {
     "name": "stdout",
     "output_type": "stream",
     "text": [
      "Starting adversarial training...\n",
      "Epoch 1/3\n"
     ]
    },
    {
     "name": "stderr",
     "output_type": "stream",
     "text": [
      "2025-06-01 09:24:05.288157: I tensorflow/core/grappler/optimizers/custom_graph_optimizer_registry.cc:117] Plugin optimizer for device_type GPU is enabled.\n"
     ]
    },
    {
     "name": "stdout",
     "output_type": "stream",
     "text": [
      "Step 0, Loss: 3.2246\n",
      "Step 100, Loss: 2.5332\n",
      "Step 200, Loss: 1.9688\n"
     ]
    },
    {
     "name": "stderr",
     "output_type": "stream",
     "text": [
      "2025-06-01 09:48:56.275423: I tensorflow/core/framework/local_rendezvous.cc:407] Local rendezvous is aborting with status: OUT_OF_RANGE: End of sequence\n"
     ]
    },
    {
     "name": "stdout",
     "output_type": "stream",
     "text": [
      "Epoch 2/3\n",
      "Step 0, Loss: 1.1709\n",
      "Step 100, Loss: 1.2559\n",
      "Step 200, Loss: 1.4053\n",
      "Epoch 3/3\n",
      "Step 0, Loss: 1.5605\n",
      "Step 100, Loss: 1.5459\n",
      "Step 200, Loss: 1.3496\n",
      "Evaluating adversarially trained model...\n",
      "Adversarially Trained Model Accuracy (Clean): 0.0071\n",
      "Adversarially Trained Model Accuracy (PGD): 0.6084\n"
     ]
    },
    {
     "name": "stderr",
     "output_type": "stream",
     "text": [
      "2025-06-01 10:30:16.687788: I tensorflow/core/framework/local_rendezvous.cc:407] Local rendezvous is aborting with status: OUT_OF_RANGE: End of sequence\n"
     ]
    }
   ],
   "source": [
    "### 4. Adversarial Training\n",
    "def create_adversarial_model():\n",
    "    base = ResNet50(weights=None, classes=10)\n",
    "    base.compile(\n",
    "        optimizer=optimizers.Adam(),\n",
    "        loss=losses.SparseCategoricalCrossentropy(from_logits=True),\n",
    "        metrics=['accuracy']\n",
    "    )\n",
    "    return base\n",
    "\n",
    "adv_model = create_adversarial_model()\n",
    "\n",
    "# Custom training loop for adversarial training\n",
    "@tf.function\n",
    "def train_step(model, images, labels):\n",
    "    adv_images = pgd_attack(model, images, labels)\n",
    "    with tf.GradientTape() as tape:\n",
    "        predictions = model(adv_images, training=True)\n",
    "        loss = losses.sparse_categorical_crossentropy(labels, predictions)\n",
    "        loss = tf.reduce_mean(loss)\n",
    "    grads = tape.gradient(loss, model.trainable_variables)\n",
    "    model.optimizer.apply_gradients(zip(grads, model.trainable_variables))\n",
    "    return loss\n",
    "\n",
    "print(\"Starting adversarial training...\")\n",
    "for epoch in range(EPOCHS):\n",
    "    print(f\"Epoch {epoch+1}/{EPOCHS}\")\n",
    "    for step, (x_batch, y_batch) in enumerate(train_ds):\n",
    "        loss_value = train_step(adv_model, x_batch, y_batch)\n",
    "        if step % 100 == 0:\n",
    "            print(f\"Step {step}, Loss: {loss_value:.4f}\")\n",
    "\n",
    "print(\"Evaluating adversarially trained model...\")\n",
    "clean_acc = evaluate(adv_model, val_ds)\n",
    "adv_acc = evaluate_under_attack(adv_model, val_ds)\n",
    "print(f\"Adversarially Trained Model Accuracy (Clean): {clean_acc:.4f}\")\n",
    "print(f\"Adversarially Trained Model Accuracy (PGD): {adv_acc:.4f}\")\n"
   ]
  }
 ],
 "metadata": {
  "kernelspec": {
   "display_name": ".venv",
   "language": "python",
   "name": "python3"
  },
  "language_info": {
   "codemirror_mode": {
    "name": "ipython",
    "version": 3
   },
   "file_extension": ".py",
   "mimetype": "text/x-python",
   "name": "python",
   "nbconvert_exporter": "python",
   "pygments_lexer": "ipython3",
   "version": "3.12.2"
  }
 },
 "nbformat": 4,
 "nbformat_minor": 5
}
