{
 "cells": [
  {
   "cell_type": "markdown",
   "id": "6c897fca",
   "metadata": {},
   "source": [
    "# ResNet-50: Adversarial Training"
   ]
  },
  {
   "cell_type": "code",
   "execution_count": 1,
   "id": "b4e8ecea",
   "metadata": {},
   "outputs": [],
   "source": [
    "import os\n",
    "import sys\n",
    "import glob\n",
    "import tensorflow as tf\n",
    "import tensorflow_datasets as tfds\n",
    "from tensorflow.keras.applications.resnet50 import preprocess_input\n",
    "from tensorflow.keras.applications import ResNet50\n",
    "import matplotlib.pyplot as plt\n",
    "import seaborn as sns\n",
    "\n",
    "os.environ[\"TF_CPP_MIN_LOG_LEVEL\"] = \"2\"\n",
    "tf.get_logger().setLevel(\"ERROR\")"
   ]
  },
  {
   "cell_type": "code",
   "execution_count": 2,
   "id": "abae82b8",
   "metadata": {},
   "outputs": [
    {
     "name": "stdout",
     "output_type": "stream",
     "text": [
      "Using available GPUs:  [PhysicalDevice(name='/physical_device:GPU:0', device_type='GPU')]\n"
     ]
    }
   ],
   "source": [
    "# Constants\n",
    "IMG_SIZE = 224\n",
    "BATCH_SIZE = 300\n",
    "AUTOTUNE = tf.data.AUTOTUNE\n",
    "EPOCHS = 5\n",
    "INPUT_SHAPE=(224, 224, 3)\n",
    "\n",
    "tf.random.set_seed(5)\n",
    "dataset_dir = \"../datasets\"\n",
    "\n",
    "# Change dataset_dir when run in google colab \n",
    "if 'google.colab' in sys.modules:\n",
    "    from google.colab import drive\n",
    "\n",
    "    drive.mount('/content/drive')\n",
    "    dataset_dir = \"/content/drive/Othercomputers/Big Mac/datasets\"\n",
    "    BATCH_SIZE = 430\n",
    "\n",
    "physical_gpus = tf.config.list_physical_devices('GPU')\n",
    "print(\"Using available GPUs: \", physical_gpus)\n",
    "\n",
    "tf.keras.mixed_precision.set_global_policy('float32')"
   ]
  },
  {
   "cell_type": "code",
   "execution_count": 3,
   "id": "a73b5987",
   "metadata": {},
   "outputs": [
    {
     "name": "stdout",
     "output_type": "stream",
     "text": [
      "Train count: 128116\n",
      "Validation count: 25000\n",
      "Test count: 25000\n"
     ]
    }
   ],
   "source": [
    "# Load ImageNet2012 dataset\n",
    "def prepare_input_data(input):\n",
    "    image = tf.cast(input['image'], tf.float32)\n",
    "    image = tf.image.resize(image, (IMG_SIZE, IMG_SIZE))\n",
    "    image = preprocess_input(image)\n",
    "    label = input['label']\n",
    "    return image, label\n",
    "\n",
    "def make_dataset(ds):\n",
    "    return (\n",
    "        ds.map(prepare_input_data, num_parallel_calls=AUTOTUNE)\n",
    "        .batch(BATCH_SIZE)\n",
    "        .prefetch(AUTOTUNE)\n",
    "    )\n",
    "\n",
    "\n",
    "(train, validation, test), info = tfds.load(\n",
    "    'imagenet2012_subset/10pct',\n",
    "    split=['train', 'validation[:50%]', 'validation[50%:]'],\n",
    "    shuffle_files=False,\n",
    "    with_info=True,\n",
    "    data_dir=dataset_dir\n",
    ")\n",
    "\n",
    "num_classes = info.features['label'].num_classes\n",
    "class_names = info.features['label'].names\n",
    "\n",
    "print(f\"Train count: {info.splits['train'].num_examples}\")\n",
    "print(f\"Validation count: {info.splits['validation[:50%]'].num_examples}\")\n",
    "print(f\"Test count: {info.splits['validation[50%:]'].num_examples}\")\n",
    "\n",
    "train_dataset = make_dataset(train)\n",
    "validation_dataset = make_dataset(validation)\n",
    "test_dataset = make_dataset(test)"
   ]
  },
  {
   "cell_type": "code",
   "execution_count": 4,
   "id": "a457f9d9",
   "metadata": {},
   "outputs": [
    {
     "name": "stdout",
     "output_type": "stream",
     "text": [
      "Loaded 298 TFrecord train files\n",
      "Loaded 59 TFrecord validation files\n",
      "Loaded 59 TFrecord test files\n"
     ]
    }
   ],
   "source": [
    "# Load adversarial datasets\n",
    "\n",
    "def _parse_image(input):\n",
    "    feature_description = {\n",
    "        'image': tf.io.FixedLenFeature([], tf.string),\n",
    "        'label': tf.io.FixedLenFeature([], tf.int64),\n",
    "    }\n",
    "    parsed_features = tf.io.parse_single_example(input, feature_description)\n",
    "    image_f16 = tf.io.parse_tensor(parsed_features['image'], out_type=tf.float16)\n",
    "    label = parsed_features['label']\n",
    "    image_f32 = tf.cast(image_f16, tf.float32)\n",
    "    image_f32.set_shape([IMG_SIZE, IMG_SIZE, 3])\n",
    "    return image_f32, label\n",
    "\n",
    "def create_tf_dataset(file_paths):\n",
    "    raw_dataset = tf.data.TFRecordDataset(file_paths, compression_type='GZIP')\n",
    "    tf_dataset = raw_dataset.map(_parse_image).batch(BATCH_SIZE).prefetch(tf.data.AUTOTUNE)\n",
    "    return tf_dataset\n",
    "\n",
    "# Get all adversarial datasets for train, validation, and testing\n",
    "train_file_paths = glob.glob(f'{dataset_dir}/adversaries/imagenet2012_subset/train-*.tfrec')\n",
    "validation_file_paths = glob.glob(f'{dataset_dir}/adversaries/imagenet2012_subset/validation-*.tfrec')\n",
    "test_file_paths = glob.glob(f'{dataset_dir}/adversaries/imagenet2012_subset/test-*.tfrec')\n",
    "\n",
    "print(f\"Loaded {len(train_file_paths)} TFrecord train files\")\n",
    "print(f\"Loaded {len(validation_file_paths)} TFrecord validation files\")\n",
    "print(f\"Loaded {len(test_file_paths)} TFrecord test files\")\n",
    "\n",
    "# Create a TFRecordDataset\n",
    "adv_train_dataset = create_tf_dataset(train_file_paths)\n",
    "adv_validation_dataset = create_tf_dataset(validation_file_paths)\n",
    "adv_test_dataset = create_tf_dataset(test_file_paths)"
   ]
  },
  {
   "cell_type": "code",
   "execution_count": 5,
   "id": "80e377ca",
   "metadata": {},
   "outputs": [],
   "source": [
    "# Merge Adversarial and Clean datasets for retraining\n",
    "buffer_size = 8\n",
    "\n",
    "merged_train_dataset = adv_train_dataset.concatenate(train_dataset)\n",
    "shuffled_train_dataset = merged_train_dataset.shuffle(buffer_size=buffer_size)\n",
    "\n",
    "merged_validation_dataset = adv_validation_dataset.concatenate(validation_dataset)\n",
    "shuffled_validation_dataset = merged_validation_dataset.shuffle(buffer_size=buffer_size)"
   ]
  },
  {
   "cell_type": "code",
   "execution_count": null,
   "id": "a7714d5b",
   "metadata": {},
   "outputs": [
    {
     "name": "stdout",
     "output_type": "stream",
     "text": [
      "Training robust ResNet-50 model...\n",
      "\n",
      "Epoch 1/5\n",
      "    856/Unknown \u001b[1m540s\u001b[0m 624ms/step - accuracy: 0.4505 - loss: 2.8553"
     ]
    },
    {
     "name": "stderr",
     "output_type": "stream",
     "text": [
      "/Users/stanleyokwii/Documents/Birkbeck/Msc Project/msc-project-source-code-files-24-25-Stanley-Okwii/.venv/lib/python3.12/site-packages/keras/src/trainers/epoch_iterator.py:164: UserWarning: Your input ran out of data; interrupting training. Make sure that your dataset or generator can generate at least `steps_per_epoch * epochs` batches. You may need to use the `.repeat()` function when building your dataset.\n",
      "  self._interrupted_warning()\n"
     ]
    },
    {
     "name": "stdout",
     "output_type": "stream",
     "text": [
      "\u001b[1m856/856\u001b[0m \u001b[32m━━━━━━━━━━━━━━━━━━━━\u001b[0m\u001b[37m\u001b[0m \u001b[1m648s\u001b[0m 750ms/step - accuracy: 0.5885 - loss: 1.8751 - val_accuracy: 0.5601 - val_loss: 2.3930\n",
      "Epoch 2/5\n",
      "\u001b[1m856/856\u001b[0m \u001b[32m━━━━━━━━━━━━━━━━━━━━\u001b[0m\u001b[37m\u001b[0m \u001b[1m682s\u001b[0m 793ms/step - accuracy: 0.7107 - loss: 1.2710 - val_accuracy: 0.5727 - val_loss: 2.8575\n",
      "Epoch 3/5\n",
      "\u001b[1m856/856\u001b[0m \u001b[32m━━━━━━━━━━━━━━━━━━━━\u001b[0m\u001b[37m\u001b[0m \u001b[1m658s\u001b[0m 765ms/step - accuracy: 0.7562 - loss: 1.1121 - val_accuracy: 0.5763 - val_loss: 3.4391\n",
      "Epoch 4/5\n",
      "\u001b[1m856/856\u001b[0m \u001b[32m━━━━━━━━━━━━━━━━━━━━\u001b[0m\u001b[37m\u001b[0m \u001b[1m639s\u001b[0m 742ms/step - accuracy: 0.7869 - loss: 1.0201 - val_accuracy: 0.5782 - val_loss: 4.0248\n",
      "Epoch 5/5\n",
      "\u001b[1m856/856\u001b[0m \u001b[32m━━━━━━━━━━━━━━━━━━━━\u001b[0m\u001b[37m\u001b[0m \u001b[1m639s\u001b[0m 743ms/step - accuracy: 0.8159 - loss: 0.9000 - val_accuracy: 0.5781 - val_loss: 4.7225\n",
      "Fine tuning with lower learning rate\n",
      "Epoch 1/5\n",
      "\u001b[1m856/856\u001b[0m \u001b[32m━━━━━━━━━━━━━━━━━━━━\u001b[0m\u001b[37m\u001b[0m \u001b[1m696s\u001b[0m 804ms/step - accuracy: 0.9169 - loss: 0.3135 - val_accuracy: 0.6185 - val_loss: 3.6750\n",
      "Epoch 2/5\n",
      "\u001b[1m856/856\u001b[0m \u001b[32m━━━━━━━━━━━━━━━━━━━━\u001b[0m\u001b[37m\u001b[0m \u001b[1m689s\u001b[0m 802ms/step - accuracy: 0.9565 - loss: 0.1463 - val_accuracy: 0.6204 - val_loss: 3.6205\n",
      "Epoch 3/5\n",
      "\u001b[1m856/856\u001b[0m \u001b[32m━━━━━━━━━━━━━━━━━━━━\u001b[0m\u001b[37m\u001b[0m \u001b[1m689s\u001b[0m 801ms/step - accuracy: 0.9735 - loss: 0.0958 - val_accuracy: 0.6201 - val_loss: 3.5962\n",
      "Epoch 4/5\n",
      "\u001b[1m856/856\u001b[0m \u001b[32m━━━━━━━━━━━━━━━━━━━━\u001b[0m\u001b[37m\u001b[0m \u001b[1m688s\u001b[0m 800ms/step - accuracy: 0.9842 - loss: 0.0663 - val_accuracy: 0.6195 - val_loss: 3.5817\n",
      "Epoch 5/5\n",
      "\u001b[1m856/856\u001b[0m \u001b[32m━━━━━━━━━━━━━━━━━━━━\u001b[0m\u001b[37m\u001b[0m \u001b[1m688s\u001b[0m 801ms/step - accuracy: 0.9909 - loss: 0.0472 - val_accuracy: 0.6192 - val_loss: 3.5720\n"
     ]
    }
   ],
   "source": [
    "print(\"Training robust ResNet-50 model...\\n\")\n",
    "\n",
    "base_model = ResNet50(\n",
    "    include_top=False,\n",
    "    weights='imagenet',\n",
    "    input_shape=INPUT_SHAPE,\n",
    "    classes=1000\n",
    ")\n",
    "base_model.trainable = False \n",
    "\n",
    "# Build a small classification head on top of the base model\n",
    "inputs = tf.keras.Input(shape=INPUT_SHAPE)\n",
    "x = base_model(inputs)\n",
    "x = tf.keras.layers.GlobalAveragePooling2D()(x)\n",
    "x = tf.keras.layers.Dense(512, activation='relu')(x)\n",
    "outputs = tf.keras.layers.Dense(num_classes, activation='softmax')(x)\n",
    "\n",
    "robust_model = tf.keras.Model(inputs, outputs)\n",
    "\n",
    "robust_model.compile(\n",
    "    optimizer=tf.keras.optimizers.Adam(learning_rate=1e-3),\n",
    "    loss=tf.keras.losses.SparseCategoricalCrossentropy(from_logits=False),\n",
    "    metrics=[\n",
    "        'accuracy'\n",
    "    ]\n",
    ")\n",
    "\n",
    "robust_model.fit(\n",
    "    shuffled_train_dataset,\n",
    "    verbose=1,\n",
    "    batch_size=BATCH_SIZE,\n",
    "    epochs=EPOCHS,\n",
    "    validation_data=shuffled_validation_dataset\n",
    ")\n",
    "\n",
    "print(\"Fine tuning with lower learning rate\")\n",
    "base_model.trainable = True\n",
    "\n",
    "# Unfreeze last 10 layers of base model\n",
    "for layer in base_model.layers[:-10]:\n",
    "    layer.trainable = False\n",
    "\n",
    "robust_model.compile(\n",
    "    optimizer=tf.keras.optimizers.Adam(learning_rate=1e-5),\n",
    "    loss=tf.keras.losses.SparseCategoricalCrossentropy(from_logits=False),\n",
    "    metrics=[\n",
    "        'accuracy',\n",
    "    ]\n",
    ")\n",
    "\n",
    "robust_model.fit(\n",
    "    shuffled_train_dataset,\n",
    "    verbose=1,\n",
    "    batch_size=BATCH_SIZE,\n",
    "    epochs=EPOCHS,\n",
    "    validation_data=shuffled_validation_dataset\n",
    ")\n",
    "\n",
    "robust_model.save(f\"{dataset_dir}/models/robust_resnet50v2.keras\")\n"
   ]
  }
 ],
 "metadata": {
  "kernelspec": {
   "display_name": ".venv",
   "language": "python",
   "name": "python3"
  },
  "language_info": {
   "codemirror_mode": {
    "name": "ipython",
    "version": 3
   },
   "file_extension": ".py",
   "mimetype": "text/x-python",
   "name": "python",
   "nbconvert_exporter": "python",
   "pygments_lexer": "ipython3",
   "version": "3.12.2"
  }
 },
 "nbformat": 4,
 "nbformat_minor": 5
}
