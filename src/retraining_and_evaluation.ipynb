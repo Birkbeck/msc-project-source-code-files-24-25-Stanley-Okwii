{
 "cells": [
  {
   "cell_type": "markdown",
   "id": "6c897fca",
   "metadata": {},
   "source": [
    "# Model training and evaluation"
   ]
  },
  {
   "cell_type": "code",
   "execution_count": 6,
   "id": "b4e8ecea",
   "metadata": {},
   "outputs": [],
   "source": [
    "import os\n",
    "import sys\n",
    "import glob\n",
    "import tensorflow as tf\n",
    "import tensorflow_datasets as tfds\n",
    "from tensorflow.keras.applications.resnet50 import preprocess_input\n",
    "from tensorflow.keras.applications import ResNet50\n",
    "import matplotlib.pyplot as plt\n",
    "import seaborn as sns\n",
    "\n",
    "os.environ[\"TF_CPP_MIN_LOG_LEVEL\"] = \"2\"  # Hide warning logs from tensorflow\n",
    "tf.get_logger().setLevel(\"ERROR\")"
   ]
  },
  {
   "cell_type": "code",
   "execution_count": null,
   "id": "abae82b8",
   "metadata": {},
   "outputs": [
    {
     "name": "stdout",
     "output_type": "stream",
     "text": [
      "Using available GPUs:  [PhysicalDevice(name='/physical_device:GPU:0', device_type='GPU')]\n"
     ]
    }
   ],
   "source": [
    "# Constants\n",
    "IMG_SIZE = 224\n",
    "BATCH_SIZE = 300\n",
    "AUTOTUNE = tf.data.AUTOTUNE\n",
    "EPOCHS = 5\n",
    "INPUT_SHAPE=(224, 224, 3)\n",
    "\n",
    "tf.random.set_seed(5)\n",
    "dataset_dir = \"../datasets\"\n",
    "\n",
    "# Change dataset_dir when run in google colab \n",
    "if 'google.colab' in sys.modules:\n",
    "    from google.colab import drive\n",
    "\n",
    "    drive.mount('/content/drive')\n",
    "    dataset_dir = \"/content/drive/Othercomputers/Big Mac/datasets\"\n",
    "\n",
    "physical_gpus = tf.config.list_physical_devices('GPU')\n",
    "print(\"Using available GPUs: \", physical_gpus)\n",
    "\n",
    "tf.keras.mixed_precision.set_global_policy('float32')"
   ]
  },
  {
   "cell_type": "code",
   "execution_count": 4,
   "id": "a73b5987",
   "metadata": {},
   "outputs": [
    {
     "name": "stdout",
     "output_type": "stream",
     "text": [
      "Train image count: 9469\n",
      "Validation image count: 1962\n",
      "Test image count: 1963\n"
     ]
    }
   ],
   "source": [
    "# Load clean datasets\n",
    "def prepare_input_data(input):\n",
    "    image = tf.cast(input['image'], tf.float32)\n",
    "    image = tf.image.resize(image, (IMG_SIZE, IMG_SIZE))\n",
    "    image = preprocess_input(image)\n",
    "    label = input['label']\n",
    "    return image, label\n",
    "\n",
    "(train, validation, test), info = tfds.load(\n",
    "    'imagenette',\n",
    "    split=['train', 'validation[:50%]', 'validation[50%:]'],\n",
    "    shuffle_files=True,\n",
    "    with_info=True,\n",
    "    data_dir=dataset_dir\n",
    ")\n",
    "\n",
    "# (train, validation, test), info = tfds.load(\n",
    "#     'imagenet2012',\n",
    "#     shuffle_files=False,\n",
    "#     with_info=True,\n",
    "#     data_dir=dataset_dir\n",
    "# )\n",
    "\n",
    "print(f'Train image count: {info.splits[\"train\"].num_examples}')\n",
    "print(f'Validation image count: {info.splits[\"validation[:50%]\"].num_examples}')\n",
    "print(f'Test image count: {info.splits[\"validation[50%:]\"].num_examples}')\n",
    "\n",
    "train_dataset = train.map(prepare_input_data, num_parallel_calls=AUTOTUNE).batch(BATCH_SIZE).prefetch(AUTOTUNE)\n",
    "validation_dataset = validation.map(prepare_input_data, num_parallel_calls=AUTOTUNE).batch(BATCH_SIZE).prefetch(AUTOTUNE)\n",
    "test_dataset = test.map(prepare_input_data, num_parallel_calls=AUTOTUNE).batch(BATCH_SIZE).prefetch(AUTOTUNE)"
   ]
  },
  {
   "cell_type": "code",
   "execution_count": null,
   "id": "a457f9d9",
   "metadata": {},
   "outputs": [
    {
     "name": "stdout",
     "output_type": "stream",
     "text": [
      "Loaded 8 TFrecord test files\n",
      "Loaded 19 TFrecord train files\n"
     ]
    }
   ],
   "source": [
    "# Load adversarial datasets\n",
    "\n",
    "def _parse_function(proto):\n",
    "    feature_description = {\n",
    "        'image': tf.io.FixedLenFeature([], tf.string),\n",
    "        'label': tf.io.FixedLenFeature([], tf.int64),\n",
    "    }\n",
    "    parsed_features = tf.io.parse_single_example(proto, feature_description)\n",
    "    image_f16 = tf.io.parse_tensor(parsed_features['image'], out_type=tf.float16)\n",
    "    label = parsed_features['label']\n",
    "    image_f32 = tf.cast(image_f16, tf.float32)\n",
    "    image_f32.set_shape([IMG_SIZE, IMG_SIZE, 3])\n",
    "    return image_f32, label\n",
    "\n",
    "\n",
    "# Get all test and train tfrec files\n",
    "test_file_paths = glob.glob(f'{dataset_dir}/adversaries/imagenette/test-*.tfrec')\n",
    "train_file_paths = glob.glob(f'{dataset_dir}/adversaries/imagenette/train-*.tfrec')\n",
    "print(f\"Loaded {len(train_file_paths)} TFrecord train files\")\n",
    "print(f\"Loaded {len(test_file_paths)} TFrecord test files\")\n",
    "\n",
    "# Create a TFRecordDataset\n",
    "raw_test_dataset = tf.data.TFRecordDataset(test_file_paths, compression_type='GZIP')\n",
    "adv_test_dataset = raw_test_dataset.map(_parse_function).batch(BATCH_SIZE).prefetch(tf.data.AUTOTUNE)\n",
    "\n",
    "raw_adv_train_dataset = tf.data.TFRecordDataset(train_file_paths, compression_type='GZIP')\n",
    "adv_train_dataset = raw_adv_train_dataset.map(_parse_function).batch(BATCH_SIZE).prefetch(tf.data.AUTOTUNE)"
   ]
  },
  {
   "cell_type": "code",
   "execution_count": null,
   "id": "a7714d5b",
   "metadata": {},
   "outputs": [],
   "source": [
    "print(\"Training robust ResNet-50 model...\\n\")\n",
    "\n",
    "robust_model = ResNet50(\n",
    "    include_top=true,\n",
    "    weights='imagenet',\n",
    "    input_shape=INPUT_SHAPE,\n",
    "    pooling=None,\n",
    "    classes=10,\n",
    "    classifier_activation='softmax'\n",
    ")\n",
    "\n",
    "robust_model.trainable = False # This prevents the powerful, pre-trained weights from being destroyed by large, random gradients during the first phase of training\n",
    "\n",
    "for layer in robust_model.layers:\n",
    "    layer.trainable = False\n",
    "\n",
    "x = base_model.output\n",
    "x = GlobalAveragePooling2D()(x)      # reduce dimensions\n",
    "x = Dropout(0.5)(x)                  # help prevent overfitting\n",
    "x = Dense(1024, activation='relu')(x)\n",
    "predictions = Dense(num_classes, activation='softmax')(x)\n",
    "\n",
    "model = Model(inputs=base_model.input, outputs=predictions)\n"
   ]
  },
  {
   "cell_type": "code",
   "execution_count": null,
   "id": "5670b40b",
   "metadata": {},
   "outputs": [],
   "source": [
    "robust_model.compile(\n",
    "    optimizer=Adam(learning_rate=0.001), # Using a higher learning rate (~1e-3) to only train top layers.\n",
    "    loss='sparse_categorical_crossentropy',\n",
    "    metrics=[\n",
    "        'accuracy',\n",
    "        tf.keras.metrics.SparseTopKCategoricalAccuracy(k=5, name='top_5_accuracy'),\n",
    "    ]\n",
    ")"
   ]
  },
  {
   "cell_type": "code",
   "execution_count": null,
   "id": "9a3aa819",
   "metadata": {},
   "outputs": [],
   "source": [
    "robust_model.fit(adv_train_dataset, verbose=1, batch_size=BATCH_SIZE, epochs=EPOCHS)"
   ]
  },
  {
   "cell_type": "code",
   "execution_count": null,
   "id": "f880fe6e",
   "metadata": {},
   "outputs": [],
   "source": [
    "robust_model.save(\"robust_resnet50.keras\")"
   ]
  }
 ],
 "metadata": {
  "kernelspec": {
   "display_name": ".venv",
   "language": "python",
   "name": "python3"
  },
  "language_info": {
   "codemirror_mode": {
    "name": "ipython",
    "version": 3
   },
   "file_extension": ".py",
   "mimetype": "text/x-python",
   "name": "python",
   "nbconvert_exporter": "python",
   "pygments_lexer": "ipython3",
   "version": "3.12.2"
  }
 },
 "nbformat": 4,
 "nbformat_minor": 5
}
